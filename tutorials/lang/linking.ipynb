{
 "cells": [
  {
   "cell_type": "markdown",
   "metadata": {},
   "source": [
    "# Writing and linking libraries\n",
    "\n",
    "PyAQASM provides all the administrative tools to write and link subcircuit libraries.\n",
    "This notebook demonstrates these tools via an advanced example.\n",
    "\n",
    "Our use case is the following. Lets say we want to construct a complicated oracle for some Grover like algorithm. Our oracle will require generalized Toffoli gates (i.e Toffoli gates with an arbitrary number of controls) and some arithmetic subroutine (an addition for instance).\n",
    "\n",
    "In this situation, one might want to write a skeleton that makes no assumption on the underlying implementation of our Toffoli gates and our addition. This has two advantages:\n",
    "* We will focus solely on the structure of our oracle, instead of dealing with annoying ancillae management or qubit counting\n",
    "* Later, we will be able to link different implementations. For instance, in case I want to simulate my oracle, I might want to link a low qubit count implementation of the Toffoli. However, if I want to estimate the number of proper Toffoli gates in my circuit, I might want to link realistic implementations of the addition/Toffoli.\n",
    "\n",
    "\n",
    "## The skeleton\n",
    "#### Place holders\n",
    "In order to write our oracle, we will create two abstract gates that will play the role of place holders for the proper subroutine calls."
   ]
  },
  {
   "cell_type": "code",
   "execution_count": null,
   "metadata": {
    "execution": {
     "iopub.execute_input": "2022-06-17T02:35:46.464468Z",
     "iopub.status.busy": "2022-06-17T02:35:46.464261Z",
     "iopub.status.idle": "2022-06-17T02:35:46.478796Z",
     "shell.execute_reply": "2022-06-17T02:35:46.478445Z"
    }
   },
   "outputs": [],
   "source": [
    "from qat.lang.AQASM import AbstractGate\n",
    "\n",
    "# Place holder for a generalized Toffoli gate. It takes a single integer parameter: the number of qubits\n",
    "# it is applied on\n",
    "toffoli = AbstractGate(\"TOFF\", [int], arity=lambda n: n)\n",
    "print(toffoli)\n",
    "# Place holder for an addition. We give it the same signature as the adder implementation of the \n",
    "# qat.lang.AQASM.arithmetic.add gate, in order to be able to link qftarith or classarith implementations\n",
    "# of the adder.\n",
    "# We will assume that the second register is added into the first one.\n",
    "add = AbstractGate(\"ADD\", [int, int], arity=lambda n1, n2: n1 + n2)\n",
    "print(add)"
   ]
  },
  {
   "cell_type": "markdown",
   "metadata": {},
   "source": [
    "#### The skeleton's body\n",
    "Lets write our oracle.\n",
    "\n",
    "Lets say we want our oracle to take 2 numbers as input $|a\\rangle$ and $|b\\rangle$ and checks if\n",
    "$a + b = 7$.\n",
    "\n",
    "We will pack our oracle using a function that, given the number of qubits used to represent $|a\\rangle$ and $|b\\rangle$, returns a QRoutine implementing the oracle."
   ]
  },
  {
   "cell_type": "code",
   "execution_count": null,
   "metadata": {
    "execution": {
     "iopub.execute_input": "2022-06-17T02:35:46.503295Z",
     "iopub.status.busy": "2022-06-17T02:35:46.503060Z",
     "iopub.status.idle": "2022-06-17T02:35:46.507160Z",
     "shell.execute_reply": "2022-06-17T02:35:46.506810Z"
    }
   },
   "outputs": [],
   "source": [
    "from qat.lang.AQASM import QRoutine, X, Program\n",
    "\n",
    "def oracle(n1, n2):\n",
    "    rout = QRoutine()\n",
    "    # Our two registers carrying a and b\n",
    "    a = rout.new_wires(n1)\n",
    "    b = rout.new_wires(n2)\n",
    "    # the output\n",
    "    result = rout.new_wires(1)\n",
    "    # First we open a fresh computation scope that will be uncomputed later one\n",
    "    with rout.compute():\n",
    "        # We start by adding b into a\n",
    "        rout.apply(add(n1, n2), a, b)\n",
    "\n",
    "        # We then flip all the bits of a, but the first 3 (we want to check if a == 7)\n",
    "        for wire in a[3:]:\n",
    "            rout.apply(X, wire)\n",
    "    # Now we check that all the bits of a are 1\n",
    "    rout.apply(toffoli(n1 + 1), a, result)\n",
    "    # And we uncompute the scope\n",
    "    rout.uncompute()\n",
    "    return rout"
   ]
  },
  {
   "cell_type": "code",
   "execution_count": null,
   "metadata": {
    "execution": {
     "iopub.execute_input": "2022-06-17T02:35:46.509016Z",
     "iopub.status.busy": "2022-06-17T02:35:46.508832Z",
     "iopub.status.idle": "2022-06-17T02:35:46.824938Z",
     "shell.execute_reply": "2022-06-17T02:35:46.824557Z"
    }
   },
   "outputs": [],
   "source": [
    "circuit = oracle(4, 3)\n",
    "%qatdisplay circuit"
   ]
  },
  {
   "cell_type": "markdown",
   "metadata": {},
   "source": [
    "## Linking a subroutine\n",
    "\n",
    "Lets first link a proper implementation of a Toffoli to our \"TOFF\" gate.\n",
    "\n",
    "We will define two implementations of a generalized Toffoli:\n",
    "* a $X$ gate controlled $(n-1)$ times\n",
    "* a recursive divide-and-conquer implementation that uses ancillae. Even though this is not the most efficient way of implementing a Toffoli, it is simple enough to be written in a notebook.\n",
    "\n",
    "We will pack each of these implementations in functions returning QRoutines.\n",
    "Each function will be lifted into an AbstractGate using the `build_gate` decorator."
   ]
  },
  {
   "cell_type": "code",
   "execution_count": null,
   "metadata": {
    "execution": {
     "iopub.execute_input": "2022-06-17T02:35:46.887448Z",
     "iopub.status.busy": "2022-06-17T02:35:46.887197Z",
     "iopub.status.idle": "2022-06-17T02:35:46.893298Z",
     "shell.execute_reply": "2022-06-17T02:35:46.892959Z"
    }
   },
   "outputs": [],
   "source": [
    "from qat.lang.AQASM.misc import build_gate\n",
    "\n",
    "@build_gate(\"TOFF\", [int], lambda n: n)\n",
    "def standard_toffoli(n):\n",
    "    rout = QRoutine()\n",
    "    wires = rout.new_wires(n)\n",
    "    rout.apply(X.ctrl(n - 1), wires)\n",
    "    return rout\n",
    "\n",
    "@build_gate(\"TOFF\", [int], lambda n: n)\n",
    "def dac_toffoli(n):\n",
    "    rout = QRoutine()\n",
    "    controls = rout.new_wires(n - 1)\n",
    "    target = rout.new_wires(1)\n",
    "    if n == 3:\n",
    "        rout.apply(X.ctrl(2), controls, target)\n",
    "        return rout\n",
    "    first_half = (n - 1) // 2 + ((n - 1) % 2)\n",
    "    second_half = (n - 1) // 2\n",
    "    with rout.compute():\n",
    "        first_toffoli = dac_toffoli(first_half + 1)\n",
    "        first_anc = rout.new_wires(1)\n",
    "        rout.apply(first_toffoli, controls[0:first_half], first_anc)\n",
    "        rout.set_ancillae(first_anc)\n",
    "        if second_half > 1:\n",
    "            second_toffoli = dac_toffoli(second_half + 1)\n",
    "            second_anc = rout.new_wires(1)\n",
    "            rout.apply(second_toffoli, controls[first_half:], second_anc)\n",
    "            rout.set_ancillae(second_anc)\n",
    "        else:\n",
    "            second_anc = controls[-1]\n",
    "    rout.apply(X.ctrl(2), first_anc, second_anc, target)\n",
    "    rout.uncompute()\n",
    "    return rout"
   ]
  },
  {
   "cell_type": "code",
   "execution_count": null,
   "metadata": {
    "execution": {
     "iopub.execute_input": "2022-06-17T02:35:46.895120Z",
     "iopub.status.busy": "2022-06-17T02:35:46.894948Z",
     "iopub.status.idle": "2022-06-17T02:35:46.897091Z",
     "shell.execute_reply": "2022-06-17T02:35:46.896786Z"
    }
   },
   "outputs": [],
   "source": [
    "toffoli_1 = standard_toffoli(4)\n",
    "toffoli_2 = dac_toffoli(4)"
   ]
  },
  {
   "cell_type": "markdown",
   "metadata": {},
   "source": [
    "In order to display the full circuit, we use the **depth** parameter of the qatdisplay magic.\n",
    "This parameters tells the printer to inline the circuit up to some particular depth before printing it."
   ]
  },
  {
   "cell_type": "code",
   "execution_count": null,
   "metadata": {
    "execution": {
     "iopub.execute_input": "2022-06-17T02:35:46.898840Z",
     "iopub.status.busy": "2022-06-17T02:35:46.898686Z",
     "iopub.status.idle": "2022-06-17T02:35:47.133885Z",
     "shell.execute_reply": "2022-06-17T02:35:47.133494Z"
    }
   },
   "outputs": [],
   "source": [
    "%qatdisplay toffoli_1 --depth 1"
   ]
  },
  {
   "cell_type": "code",
   "execution_count": null,
   "metadata": {
    "execution": {
     "iopub.execute_input": "2022-06-17T02:35:47.136301Z",
     "iopub.status.busy": "2022-06-17T02:35:47.136101Z",
     "iopub.status.idle": "2022-06-17T02:35:47.404402Z",
     "shell.execute_reply": "2022-06-17T02:35:47.404015Z"
    }
   },
   "outputs": [],
   "source": [
    "%qatdisplay toffoli_2 --depth 2"
   ]
  },
  {
   "cell_type": "markdown",
   "metadata": {},
   "source": [
    "We can now link any of these implementations to our oracle using the `link` option in the `to_circ` method."
   ]
  },
  {
   "cell_type": "code",
   "execution_count": null,
   "metadata": {
    "execution": {
     "iopub.execute_input": "2022-06-17T02:35:47.406853Z",
     "iopub.status.busy": "2022-06-17T02:35:47.406653Z",
     "iopub.status.idle": "2022-06-17T02:35:47.419756Z",
     "shell.execute_reply": "2022-06-17T02:35:47.419442Z"
    }
   },
   "outputs": [],
   "source": [
    "my_oracle = oracle(4, 5)\n",
    "prog = Program()\n",
    "qbits = prog.qalloc(my_oracle.arity)\n",
    "prog.apply(my_oracle, qbits)\n",
    "# The linking will happen here.\n",
    "# We set inline to True, just so we can introspect the circuit after\n",
    "# In practice, inline should stay at False for performance reasons\n",
    "circuit_standard = prog.to_circ(link=[standard_toffoli])\n",
    "circuit_dac = prog.to_circ(link=[dac_toffoli])"
   ]
  },
  {
   "cell_type": "code",
   "execution_count": null,
   "metadata": {
    "execution": {
     "iopub.execute_input": "2022-06-17T02:35:47.421815Z",
     "iopub.status.busy": "2022-06-17T02:35:47.421656Z",
     "iopub.status.idle": "2022-06-17T02:35:47.764056Z",
     "shell.execute_reply": "2022-06-17T02:35:47.763661Z"
    }
   },
   "outputs": [],
   "source": [
    "%qatdisplay circuit_standard --depth 1"
   ]
  },
  {
   "cell_type": "code",
   "execution_count": null,
   "metadata": {
    "execution": {
     "iopub.execute_input": "2022-06-17T02:35:47.766308Z",
     "iopub.status.busy": "2022-06-17T02:35:47.766106Z",
     "iopub.status.idle": "2022-06-17T02:35:48.273414Z",
     "shell.execute_reply": "2022-06-17T02:35:48.272973Z"
    }
   },
   "outputs": [],
   "source": [
    "%qatdisplay circuit_dac --depth 3"
   ]
  },
  {
   "cell_type": "markdown",
   "metadata": {},
   "source": [
    "There are two things to notice:\n",
    "* First, the two circuit correspond to what we expected: our oracle where the \"TOFF\" gate has been replaced with one of the two implementation we defined above\n",
    "* Second, the second circuit has more qubits than the first one. This is due to the fact that our second implementation `dac_toffoli` uses ancillae. These ancillae have been allocated during the call to the `to_circ` method.\n",
    "\n",
    "\n",
    "Ok! Now lets finish the job and link a proper implementation of an adder.\n",
    "PyAQASM comes with preprogramed arithmetic libraries using either QFT based arithmetic or carry based.\n",
    "\n",
    "For the sake of demonstration, we will try and link each one of these libraries."
   ]
  },
  {
   "cell_type": "code",
   "execution_count": null,
   "metadata": {
    "execution": {
     "iopub.execute_input": "2022-06-17T02:35:48.275926Z",
     "iopub.status.busy": "2022-06-17T02:35:48.275714Z",
     "iopub.status.idle": "2022-06-17T02:35:48.301633Z",
     "shell.execute_reply": "2022-06-17T02:35:48.301287Z"
    }
   },
   "outputs": [],
   "source": [
    "import qat.lang.AQASM.qftarith\n",
    "import qat.lang.AQASM.classarith\n",
    "circuit_standard_qft = prog.to_circ(link=[qat.lang.AQASM.qftarith, standard_toffoli])\n",
    "circuit_standard_carry = prog.to_circ(link=[qat.lang.AQASM.classarith, standard_toffoli])"
   ]
  },
  {
   "cell_type": "code",
   "execution_count": null,
   "metadata": {
    "execution": {
     "iopub.execute_input": "2022-06-17T02:35:48.304264Z",
     "iopub.status.busy": "2022-06-17T02:35:48.304022Z",
     "iopub.status.idle": "2022-06-17T02:35:50.157104Z",
     "shell.execute_reply": "2022-06-17T02:35:50.156724Z"
    }
   },
   "outputs": [],
   "source": [
    "# Of course the circuit is bigger now!\n",
    "%qatdisplay circuit_standard_qft --depth 3"
   ]
  },
  {
   "cell_type": "code",
   "execution_count": null,
   "metadata": {
    "execution": {
     "iopub.execute_input": "2022-06-17T02:35:50.159722Z",
     "iopub.status.busy": "2022-06-17T02:35:50.159529Z",
     "iopub.status.idle": "2022-06-17T02:35:51.995651Z",
     "shell.execute_reply": "2022-06-17T02:35:51.995201Z"
    }
   },
   "outputs": [],
   "source": [
    "%qatdisplay circuit_standard_carry --depth 3"
   ]
  },
  {
   "cell_type": "markdown",
   "metadata": {},
   "source": [
    "This second circuit demonstrate how ancillae are reused: the first addition allocates some ancilla, and this same ancilla is then used by the dagger of the addition.\n",
    "\n",
    "We can link our other implementation of the Toffoli to check that the Toffoli will also use this same ancilla:"
   ]
  },
  {
   "cell_type": "code",
   "execution_count": null,
   "metadata": {
    "execution": {
     "iopub.execute_input": "2022-06-17T02:35:51.998322Z",
     "iopub.status.busy": "2022-06-17T02:35:51.998118Z",
     "iopub.status.idle": "2022-06-17T02:35:54.181389Z",
     "shell.execute_reply": "2022-06-17T02:35:54.180988Z"
    }
   },
   "outputs": [],
   "source": [
    "circuit_dac_carry = prog.to_circ(link=[qat.lang.AQASM.classarith, dac_toffoli])\n",
    "%qatdisplay circuit_dac_carry --depth 4"
   ]
  },
  {
   "cell_type": "markdown",
   "metadata": {},
   "source": [
    "## Writing proper libraries\n",
    "\n",
    "In the example above, we linked a full python package (qat.lang.AQASM.qftarith/classarith) to the circuit extraction routine.\n",
    "\n",
    "In practice, the `link` keyword accepts:\n",
    "* `AbstractGate`s that have subcircuit implementations (such as `@build_gate` decorated functions)\n",
    "* python packages (in that case, the package is imported, crawled, and all `AbstractGates` are extracted and linked)\n",
    "* gate sets (dictionaries of `AbstractGates`)\n",
    "\n",
    "\n",
    "Hence, any python file containing many functions decorated using `@build_gate` can be linked in one go. This is the case of `qat.lang.AQASM.qftarith`, `qat.lang.AQASM.classarith`, and `qat.lang.AQASM.arithmetic`.\n",
    "\n",
    "To push our example to its limits, one can think of writing two different files:\n",
    "* [simulation_lib.py](./simulation_lib.py) that will contain:\n",
    "    * `standard_toffoli`\n",
    "    * `qat.lang.AQASM.qftarith.add`\n",
    "* [realistic_lib.py](./realistic_lib.py) that will contain:\n",
    "    * `dac_toffoli`\n",
    "    * `qat.lang.AQASM.classarith.cuccaro_add`\n",
    "    \n",
    "Then we can link any of the two package, depending on if we want to simulate the circuit or obtain a ressource estimation out of it."
   ]
  },
  {
   "cell_type": "code",
   "execution_count": null,
   "metadata": {
    "execution": {
     "iopub.execute_input": "2022-06-17T02:35:54.183958Z",
     "iopub.status.busy": "2022-06-17T02:35:54.183758Z",
     "iopub.status.idle": "2022-06-17T02:35:54.210786Z",
     "shell.execute_reply": "2022-06-17T02:35:54.210423Z"
    }
   },
   "outputs": [],
   "source": [
    "import simulation_lib, realistic_lib\n",
    "\n",
    "circuit_simulation = prog.to_circ(link=[simulation_lib])\n",
    "circuit_estimation = prog.to_circ(link=[realistic_lib])"
   ]
  },
  {
   "cell_type": "code",
   "execution_count": null,
   "metadata": {
    "execution": {
     "iopub.execute_input": "2022-06-17T02:35:54.213350Z",
     "iopub.status.busy": "2022-06-17T02:35:54.213193Z",
     "iopub.status.idle": "2022-06-17T02:35:56.095281Z",
     "shell.execute_reply": "2022-06-17T02:35:56.094893Z"
    }
   },
   "outputs": [],
   "source": [
    "%qatdisplay circuit_simulation --depth 2"
   ]
  },
  {
   "cell_type": "code",
   "execution_count": null,
   "metadata": {
    "execution": {
     "iopub.execute_input": "2022-06-17T02:35:56.097753Z",
     "iopub.status.busy": "2022-06-17T02:35:56.097555Z",
     "iopub.status.idle": "2022-06-17T02:35:58.293732Z",
     "shell.execute_reply": "2022-06-17T02:35:58.293112Z"
    }
   },
   "outputs": [],
   "source": [
    "%qatdisplay circuit_estimation --depth 2"
   ]
  },
  {
   "cell_type": "code",
   "execution_count": null,
   "metadata": {},
   "outputs": [],
   "source": []
  }
 ],
 "metadata": {
  "authors": [
   "Simon Martiel"
  ],
  "kernelspec": {
   "display_name": "Python 3 (ipykernel)",
   "language": "python",
   "name": "python3"
  },
  "language_info": {
   "codemirror_mode": {
    "name": "ipython",
    "version": 3
   },
   "file_extension": ".py",
   "mimetype": "text/x-python",
   "name": "python",
   "nbconvert_exporter": "python",
   "pygments_lexer": "ipython3",
   "version": "3.9.2"
  }
 },
 "nbformat": 4,
 "nbformat_minor": 2
}
